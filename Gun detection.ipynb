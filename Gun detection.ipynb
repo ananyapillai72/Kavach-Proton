{
 "cells": [
  {
   "cell_type": "markdown",
   "id": "425cd795",
   "metadata": {},
   "source": [
    "__1. Install Pytorch__"
   ]
  },
  {
   "cell_type": "code",
   "execution_count": 1,
   "id": "7ffeace0",
   "metadata": {},
   "outputs": [
    {
     "name": "stdout",
     "output_type": "stream",
     "text": [
      "Looking in indexes: https://pypi.org/simple, https://download.pytorch.org/whl/cu117\n",
      "Requirement already satisfied: torch in c:\\users\\rishi\\anaconda3\\lib\\site-packages (1.8.1+cu111)\n",
      "Requirement already satisfied: torchvision in c:\\users\\rishi\\anaconda3\\lib\\site-packages (0.9.1+cu111)\n",
      "Requirement already satisfied: torchaudio in c:\\users\\rishi\\anaconda3\\lib\\site-packages (0.8.1)\n",
      "Requirement already satisfied: typing-extensions in c:\\users\\rishi\\anaconda3\\lib\\site-packages (from torch) (4.1.1)\n",
      "Requirement already satisfied: numpy in c:\\users\\rishi\\anaconda3\\lib\\site-packages (from torch) (1.22.4)\n",
      "Requirement already satisfied: pillow>=4.1.1 in c:\\users\\rishi\\anaconda3\\lib\\site-packages (from torchvision) (9.0.1)\n"
     ]
    }
   ],
   "source": [
    "!pip3 install torch torchvision torchaudio --extra-index-url https://download.pytorch.org/whl/cu117"
   ]
  },
  {
   "cell_type": "markdown",
   "id": "2c62dbb6",
   "metadata": {},
   "source": [
    "__2. Clone the github repository to download and install yolov5__"
   ]
  },
  {
   "cell_type": "code",
   "execution_count": 5,
   "id": "8759b700",
   "metadata": {
    "scrolled": true
   },
   "outputs": [
    {
     "name": "stderr",
     "output_type": "stream",
     "text": [
      "Cloning into 'yolov5'...\n"
     ]
    }
   ],
   "source": [
    "!git clone https://github.com/ultralytics/yolov5"
   ]
  },
  {
   "cell_type": "markdown",
   "id": "625d5eed",
   "metadata": {},
   "source": [
    "__3. Download and install all the requirements for yolov5__"
   ]
  },
  {
   "cell_type": "code",
   "execution_count": 15,
   "id": "f4591085",
   "metadata": {},
   "outputs": [
    {
     "name": "stdout",
     "output_type": "stream",
     "text": [
      "Requirement already satisfied: gitpython>=3.1.30 in c:\\users\\rishi\\anaconda3\\lib\\site-packages (from -r requirements.txt (line 5)) (3.1.30)\n",
      "Requirement already satisfied: matplotlib>=3.3 in c:\\users\\rishi\\anaconda3\\lib\\site-packages (from -r requirements.txt (line 6)) (3.5.1)\n",
      "Requirement already satisfied: numpy>=1.18.5 in c:\\users\\rishi\\anaconda3\\lib\\site-packages (from -r requirements.txt (line 7)) (1.22.4)\n",
      "Requirement already satisfied: opencv-python>=4.1.1 in c:\\users\\rishi\\anaconda3\\lib\\site-packages (from -r requirements.txt (line 8)) (4.7.0.68)\n",
      "Requirement already satisfied: Pillow>=7.1.2 in c:\\users\\rishi\\anaconda3\\lib\\site-packages (from -r requirements.txt (line 9)) (9.0.1)\n",
      "Requirement already satisfied: psutil in c:\\users\\rishi\\anaconda3\\lib\\site-packages (from -r requirements.txt (line 10)) (5.8.0)\n",
      "Requirement already satisfied: PyYAML>=5.3.1 in c:\\users\\rishi\\anaconda3\\lib\\site-packages (from -r requirements.txt (line 11)) (6.0)\n",
      "Requirement already satisfied: requests>=2.23.0 in c:\\users\\rishi\\anaconda3\\lib\\site-packages (from -r requirements.txt (line 12)) (2.27.1)\n",
      "Requirement already satisfied: scipy>=1.4.1 in c:\\users\\rishi\\anaconda3\\lib\\site-packages (from -r requirements.txt (line 13)) (1.7.3)\n",
      "Requirement already satisfied: thop>=0.1.1 in c:\\users\\rishi\\anaconda3\\lib\\site-packages (from -r requirements.txt (line 14)) (0.1.1.post2209072238)\n",
      "Requirement already satisfied: torch>=1.7.0 in c:\\users\\rishi\\anaconda3\\lib\\site-packages (from -r requirements.txt (line 15)) (1.8.1+cu111)\n",
      "Requirement already satisfied: torchvision>=0.8.1 in c:\\users\\rishi\\anaconda3\\lib\\site-packages (from -r requirements.txt (line 16)) (0.9.1+cu111)\n",
      "Requirement already satisfied: tqdm>=4.64.0 in c:\\users\\rishi\\anaconda3\\lib\\site-packages (from -r requirements.txt (line 17)) (4.64.0)\n",
      "Requirement already satisfied: pandas>=1.1.4 in c:\\users\\rishi\\anaconda3\\lib\\site-packages (from -r requirements.txt (line 26)) (1.4.2)\n",
      "Requirement already satisfied: seaborn>=0.11.0 in c:\\users\\rishi\\anaconda3\\lib\\site-packages (from -r requirements.txt (line 27)) (0.11.2)\n",
      "Requirement already satisfied: setuptools>=65.5.1 in c:\\users\\rishi\\anaconda3\\lib\\site-packages (from -r requirements.txt (line 41)) (67.6.0)\n",
      "Requirement already satisfied: gitdb<5,>=4.0.1 in c:\\users\\rishi\\anaconda3\\lib\\site-packages (from gitpython>=3.1.30->-r requirements.txt (line 5)) (4.0.10)\n",
      "Requirement already satisfied: cycler>=0.10 in c:\\users\\rishi\\anaconda3\\lib\\site-packages (from matplotlib>=3.3->-r requirements.txt (line 6)) (0.10.0)\n",
      "Requirement already satisfied: fonttools>=4.22.0 in c:\\users\\rishi\\anaconda3\\lib\\site-packages (from matplotlib>=3.3->-r requirements.txt (line 6)) (4.25.0)\n",
      "Requirement already satisfied: kiwisolver>=1.0.1 in c:\\users\\rishi\\anaconda3\\lib\\site-packages (from matplotlib>=3.3->-r requirements.txt (line 6)) (1.3.2)\n",
      "Requirement already satisfied: packaging>=20.0 in c:\\users\\rishi\\anaconda3\\lib\\site-packages (from matplotlib>=3.3->-r requirements.txt (line 6)) (21.3)\n",
      "Requirement already satisfied: pyparsing>=2.2.1 in c:\\users\\rishi\\anaconda3\\lib\\site-packages (from matplotlib>=3.3->-r requirements.txt (line 6)) (2.4.7)\n",
      "Requirement already satisfied: python-dateutil>=2.7 in c:\\users\\rishi\\anaconda3\\lib\\site-packages (from matplotlib>=3.3->-r requirements.txt (line 6)) (2.8.2)\n",
      "Requirement already satisfied: urllib3<1.27,>=1.21.1 in c:\\users\\rishi\\anaconda3\\lib\\site-packages (from requests>=2.23.0->-r requirements.txt (line 12)) (1.26.15)\n",
      "Requirement already satisfied: certifi>=2017.4.17 in c:\\users\\rishi\\anaconda3\\lib\\site-packages (from requests>=2.23.0->-r requirements.txt (line 12)) (2022.12.7)\n",
      "Requirement already satisfied: charset-normalizer~=2.0.0 in c:\\users\\rishi\\anaconda3\\lib\\site-packages (from requests>=2.23.0->-r requirements.txt (line 12)) (2.0.4)\n",
      "Requirement already satisfied: idna<4,>=2.5 in c:\\users\\rishi\\anaconda3\\lib\\site-packages (from requests>=2.23.0->-r requirements.txt (line 12)) (2.10)\n",
      "Requirement already satisfied: typing-extensions in c:\\users\\rishi\\anaconda3\\lib\\site-packages (from torch>=1.7.0->-r requirements.txt (line 15)) (4.1.1)\n",
      "Requirement already satisfied: colorama in c:\\users\\rishi\\anaconda3\\lib\\site-packages (from tqdm>=4.64.0->-r requirements.txt (line 17)) (0.4.4)\n",
      "Requirement already satisfied: pytz>=2020.1 in c:\\users\\rishi\\anaconda3\\lib\\site-packages (from pandas>=1.1.4->-r requirements.txt (line 26)) (2021.3)\n",
      "Requirement already satisfied: six in c:\\users\\rishi\\anaconda3\\lib\\site-packages (from cycler>=0.10->matplotlib>=3.3->-r requirements.txt (line 6)) (1.16.0)\n",
      "Requirement already satisfied: smmap<6,>=3.0.1 in c:\\users\\rishi\\anaconda3\\lib\\site-packages (from gitdb<5,>=4.0.1->gitpython>=3.1.30->-r requirements.txt (line 5)) (5.0.0)\n"
     ]
    }
   ],
   "source": [
    "!cd yolov5 & pip install -r requirements.txt"
   ]
  },
  {
   "cell_type": "markdown",
   "id": "b5f9e448",
   "metadata": {},
   "source": [
    "__4. Importing some of the requirements into the jupyter notebook__"
   ]
  },
  {
   "cell_type": "code",
   "execution_count": 7,
   "id": "13fb6866",
   "metadata": {},
   "outputs": [],
   "source": [
    "import torch\n",
    "from matplotlib import pyplot as plt\n",
    "import numpy as np\n",
    "import cv2"
   ]
  },
  {
   "cell_type": "code",
   "execution_count": 45,
   "id": "16e8bf97",
   "metadata": {},
   "outputs": [
    {
     "name": "stdout",
     "output_type": "stream",
     "text": [
      "^C\n"
     ]
    }
   ],
   "source": [
    "!cd yolov5 && python train.py --img 416 --batch 16 --epochs 10 --data dataset.yml --weights last.pt --workers 0"
   ]
  },
  {
   "cell_type": "markdown",
   "id": "d92207da",
   "metadata": {},
   "source": [
    "9. Load custom models__"
   ]
  },
  {
   "cell_type": "code",
   "execution_count": null,
   "id": "d293a02c",
   "metadata": {
    "scrolled": false
   },
   "outputs": [],
   "source": [
    "model = torch.hub.load('ultralytics/yolov5', 'custom', path=\"D:/ML/GUN_YOLOV4/best.pt\", force_reload=True)"
   ]
  },
  {
   "cell_type": "code",
   "execution_count": 32,
   "id": "765e2701",
   "metadata": {},
   "outputs": [
    {
     "name": "stdout",
     "output_type": "stream",
     "text": [
      "D:\\ML\\GUN_YOLOV4\\yolov5\n"
     ]
    }
   ],
   "source": [
    "cd yolov5"
   ]
  },
  {
   "cell_type": "code",
   "execution_count": null,
   "id": "4659717f",
   "metadata": {},
   "outputs": [],
   "source": [
    "!python detect.py --weights D:/ML/GUN_YOLOV4/yolov5/runs/train/exp6/weights/last.pt --img 800 --conf 0.35 --source D:/ML/GUN_YOLOV4/Weapon_Violence"
   ]
  },
  {
   "cell_type": "code",
   "execution_count": 4,
   "id": "770fdfc7",
   "metadata": {},
   "outputs": [
    {
     "name": "stdout",
     "output_type": "stream",
     "text": [
      "D:\\ML\\GUN_YOLOV4\\yolov5\n"
     ]
    }
   ],
   "source": [
    "cd yolov5"
   ]
  },
  {
   "cell_type": "code",
   "execution_count": null,
   "id": "486d01d9",
   "metadata": {},
   "outputs": [],
   "source": [
    "!python detect.py --weights D:/ML/GUN_YOLOV4/yolov5/runs/train/exp6/weights/best.pt --img 800 --conf 0.5 --source D:/Downloads/guns"
   ]
  },
  {
   "cell_type": "code",
   "execution_count": null,
   "id": "187f8645",
   "metadata": {},
   "outputs": [],
   "source": [
    "!pip install ultralytics"
   ]
  },
  {
   "cell_type": "code",
   "execution_count": null,
   "id": "dda6da72",
   "metadata": {},
   "outputs": [],
   "source": [
    "from ultralytics import YOLO\n",
    "\n",
    "# Load a model\n",
    "model = YOLO(r\"D:\\ML\\GUN_YOLOV4\\yolov5\\runs\\train\\exp6\\weights\\best.pt\") \n",
    "results = model.predict(r\"D:\\Downloads\\images.jpeg\",save=True,conf=0.5)"
   ]
  },
  {
   "cell_type": "code",
   "execution_count": null,
   "id": "a3940cdc",
   "metadata": {},
   "outputs": [],
   "source": []
  }
 ],
 "metadata": {
  "kernelspec": {
   "display_name": "Python 3 (ipykernel)",
   "language": "python",
   "name": "python3"
  },
  "language_info": {
   "codemirror_mode": {
    "name": "ipython",
    "version": 3
   },
   "file_extension": ".py",
   "mimetype": "text/x-python",
   "name": "python",
   "nbconvert_exporter": "python",
   "pygments_lexer": "ipython3",
   "version": "3.9.12"
  }
 },
 "nbformat": 4,
 "nbformat_minor": 5
}
